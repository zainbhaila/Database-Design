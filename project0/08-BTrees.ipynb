{
 "cells": [
  {
   "cell_type": "markdown",
   "metadata": {},
   "source": [
    "This notebook is based on the python B+-tree implementation, that you have to modify as part of Project 4. The implementation in turn tries to mimic the pseudocode described in the book, as faithfully as possible."
   ]
  },
  {
   "cell_type": "markdown",
   "metadata": {},
   "source": [
    "### Setup\n",
    "The code is split across two files: disk_relations.py, and btree.py. The first file contains some basic primitives like Blocks, Relations, Tuples etc., whereas the second one has the B+-Tree implementation (with the caveat that one function does not work)."
   ]
  },
  {
   "cell_type": "code",
   "execution_count": 1,
   "metadata": {},
   "outputs": [],
   "source": [
    "import math\n",
    "import sys\n",
    "sys.path.append(\"pyfiles\")\n",
    "from disk_relations import *\n",
    "from btree import *\n",
    "from create_sample_databases import *\n",
    "from IPython.core.display import SVG"
   ]
  },
  {
   "cell_type": "markdown",
   "metadata": {},
   "source": [
    "create_sample_databases has a function to create a database with two relations"
   ]
  },
  {
   "cell_type": "code",
   "execution_count": 2,
   "metadata": {},
   "outputs": [],
   "source": [
    "# Create a sample database\n",
    "db1 = createDatabase1(\"univ\")"
   ]
  },
  {
   "cell_type": "code",
   "execution_count": null,
   "metadata": {},
   "outputs": [],
   "source": [
    "db1.getRelation(\"instructor\").printTuples()"
   ]
  },
  {
   "cell_type": "markdown",
   "metadata": {},
   "source": [
    "### B+Trees\n",
    "`create_sample_databases` also creates several B+-Trees. We can print out\n",
    "the indexes as follows."
   ]
  },
  {
   "cell_type": "code",
   "execution_count": null,
   "metadata": {},
   "outputs": [],
   "source": [
    "db1.getIndex(\"instructor\", \"name\").printTree()\n",
    "idx = db1.getIndex(\"instructor\", \"name\")"
   ]
  },
  {
   "cell_type": "markdown",
   "metadata": {},
   "source": [
    "Currently the B+-Tree is printed out level-by-level as shown here. {Block 36} is a pointer to the Block 36, whereas {Block 26, Tuple 0} is a pointer to a specific tuple. \n",
    "\n",
    "You can use the DisplayBTree class to draw a proper tree -- this function basically generates an HTML SVG for the B-Tree."
   ]
  },
  {
   "cell_type": "code",
   "execution_count": 3,
   "metadata": {
    "scrolled": true
   },
   "outputs": [
    {
     "data": {
      "image/svg+xml": [
       "<svg class=\"chart\" height=\"520\" width=\"1820\">\n",
       "<marker id=\"triangle\" markerHeight=\"8\" markerUnits=\"strokeWidth\" markerWidth=\"5\" orient=\"auto\" refX=\"0\" refY=\"5\" viewBox=\"0 0 10 10\"> <path d=\"M 0 0 L 10 5 L 0 10 z\"/> </marker><g transform=\"translate(0, 0)\"><rect fill=\"#ccc\" height=\"30\" width=\"70\"/><line stroke=\"black\" stroke-width=\"1\" x1=\"0\" x2=\"0\" y1=\"0\" y2=\"30\"/><line stroke=\"black\" stroke-width=\"1\" x1=\"10\" x2=\"10\" y1=\"0\" y2=\"30\"/><line stroke=\"black\" stroke-width=\"1\" x1=\"60\" x2=\"60\" y1=\"0\" y2=\"30\"/><line stroke=\"black\" stroke-width=\"1\" x1=\"70\" x2=\"70\" y1=\"0\" y2=\"30\"/><text dy=\".35em\" x=\"12\" y=\"15.0\">Mozart</text></g>\n",
       "<line marker-end=\"url(#triangle)\" stroke=\"black\" stroke-width=\"2\" x1=\"5.0\" x2=\"43\" y1=\"27.0\" y2=\"72\"/><line marker-end=\"url(#triangle)\" stroke=\"black\" stroke-width=\"2\" x1=\"65.0\" x2=\"173\" y1=\"27.0\" y2=\"72\"/><g transform=\"translate(0, 75)\"><rect fill=\"#ccc\" height=\"30\" width=\"130\"/><line stroke=\"black\" stroke-width=\"1\" x1=\"0\" x2=\"0\" y1=\"0\" y2=\"30\"/><line stroke=\"black\" stroke-width=\"1\" x1=\"10\" x2=\"10\" y1=\"0\" y2=\"30\"/><line stroke=\"black\" stroke-width=\"1\" x1=\"60\" x2=\"60\" y1=\"0\" y2=\"30\"/><line stroke=\"black\" stroke-width=\"1\" x1=\"70\" x2=\"70\" y1=\"0\" y2=\"30\"/><line stroke=\"black\" stroke-width=\"1\" x1=\"120\" x2=\"120\" y1=\"0\" y2=\"30\"/><line stroke=\"black\" stroke-width=\"1\" x1=\"130\" x2=\"130\" y1=\"0\" y2=\"30\"/><text dy=\".35em\" x=\"12\" y=\"15.0\">Einste</text><text dy=\".35em\" x=\"72\" y=\"15.0\">Gold</text></g>\n",
       "<line marker-end=\"url(#triangle)\" stroke=\"black\" stroke-width=\"2\" x1=\"5.0\" x2=\"63\" y1=\"102.0\" y2=\"147\"/><line marker-end=\"url(#triangle)\" stroke=\"black\" stroke-width=\"2\" x1=\"65.0\" x2=\"253\" y1=\"102.0\" y2=\"147\"/><line marker-end=\"url(#triangle)\" stroke=\"black\" stroke-width=\"2\" x1=\"125.0\" x2=\"423\" y1=\"102.0\" y2=\"147\"/><g transform=\"translate(150, 75)\"><rect fill=\"#ccc\" height=\"30\" width=\"70\"/><line stroke=\"black\" stroke-width=\"1\" x1=\"0\" x2=\"0\" y1=\"0\" y2=\"30\"/><line stroke=\"black\" stroke-width=\"1\" x1=\"10\" x2=\"10\" y1=\"0\" y2=\"30\"/><line stroke=\"black\" stroke-width=\"1\" x1=\"60\" x2=\"60\" y1=\"0\" y2=\"30\"/><line stroke=\"black\" stroke-width=\"1\" x1=\"70\" x2=\"70\" y1=\"0\" y2=\"30\"/><text dy=\".35em\" x=\"12\" y=\"15.0\">Sriniv</text></g>\n",
       "<line marker-end=\"url(#triangle)\" stroke=\"black\" stroke-width=\"2\" x1=\"155.0\" x2=\"613\" y1=\"102.0\" y2=\"147\"/><line marker-end=\"url(#triangle)\" stroke=\"black\" stroke-width=\"2\" x1=\"215.0\" x2=\"763\" y1=\"102.0\" y2=\"147\"/><g transform=\"translate(0, 150)\"><rect fill=\"#ccc\" height=\"30\" width=\"190\"/><line stroke=\"black\" stroke-width=\"1\" x1=\"0\" x2=\"0\" y1=\"0\" y2=\"30\"/><line stroke=\"black\" stroke-width=\"1\" x1=\"10\" x2=\"10\" y1=\"0\" y2=\"30\"/><line stroke=\"black\" stroke-width=\"1\" x1=\"60\" x2=\"60\" y1=\"0\" y2=\"30\"/><line stroke=\"black\" stroke-width=\"1\" x1=\"70\" x2=\"70\" y1=\"0\" y2=\"30\"/><line stroke=\"black\" stroke-width=\"1\" x1=\"120\" x2=\"120\" y1=\"0\" y2=\"30\"/><line stroke=\"black\" stroke-width=\"1\" x1=\"130\" x2=\"130\" y1=\"0\" y2=\"30\"/><line stroke=\"black\" stroke-width=\"1\" x1=\"180\" x2=\"180\" y1=\"0\" y2=\"30\"/><line stroke=\"black\" stroke-width=\"1\" x1=\"190\" x2=\"190\" y1=\"0\" y2=\"30\"/><text dy=\".35em\" x=\"12\" y=\"15.0\">Brandt</text><text dy=\".35em\" x=\"72\" y=\"15.0\">Califi</text><text dy=\".35em\" x=\"132\" y=\"15.0\">Crick</text></g>\n",
       "<g transform=\"translate(210, 150)\"><rect fill=\"#ccc\" height=\"30\" width=\"130\"/><line stroke=\"black\" stroke-width=\"1\" x1=\"0\" x2=\"0\" y1=\"0\" y2=\"30\"/><line stroke=\"black\" stroke-width=\"1\" x1=\"10\" x2=\"10\" y1=\"0\" y2=\"30\"/><line stroke=\"black\" stroke-width=\"1\" x1=\"60\" x2=\"60\" y1=\"0\" y2=\"30\"/><line stroke=\"black\" stroke-width=\"1\" x1=\"70\" x2=\"70\" y1=\"0\" y2=\"30\"/><line stroke=\"black\" stroke-width=\"1\" x1=\"120\" x2=\"120\" y1=\"0\" y2=\"30\"/><line stroke=\"black\" stroke-width=\"1\" x1=\"130\" x2=\"130\" y1=\"0\" y2=\"30\"/><text dy=\".35em\" x=\"12\" y=\"15.0\">Einste</text><text dy=\".35em\" x=\"72\" y=\"15.0\">El Sai</text></g>\n",
       "<g transform=\"translate(360, 150)\"><rect fill=\"#ccc\" height=\"30\" width=\"190\"/><line stroke=\"black\" stroke-width=\"1\" x1=\"0\" x2=\"0\" y1=\"0\" y2=\"30\"/><line stroke=\"black\" stroke-width=\"1\" x1=\"10\" x2=\"10\" y1=\"0\" y2=\"30\"/><line stroke=\"black\" stroke-width=\"1\" x1=\"60\" x2=\"60\" y1=\"0\" y2=\"30\"/><line stroke=\"black\" stroke-width=\"1\" x1=\"70\" x2=\"70\" y1=\"0\" y2=\"30\"/><line stroke=\"black\" stroke-width=\"1\" x1=\"120\" x2=\"120\" y1=\"0\" y2=\"30\"/><line stroke=\"black\" stroke-width=\"1\" x1=\"130\" x2=\"130\" y1=\"0\" y2=\"30\"/><line stroke=\"black\" stroke-width=\"1\" x1=\"180\" x2=\"180\" y1=\"0\" y2=\"30\"/><line stroke=\"black\" stroke-width=\"1\" x1=\"190\" x2=\"190\" y1=\"0\" y2=\"30\"/><text dy=\".35em\" x=\"12\" y=\"15.0\">Gold</text><text dy=\".35em\" x=\"72\" y=\"15.0\">Katz</text><text dy=\".35em\" x=\"132\" y=\"15.0\">Kim</text></g>\n",
       "<g transform=\"translate(570, 150)\"><rect fill=\"#ccc\" height=\"30\" width=\"130\"/><line stroke=\"black\" stroke-width=\"1\" x1=\"0\" x2=\"0\" y1=\"0\" y2=\"30\"/><line stroke=\"black\" stroke-width=\"1\" x1=\"10\" x2=\"10\" y1=\"0\" y2=\"30\"/><line stroke=\"black\" stroke-width=\"1\" x1=\"60\" x2=\"60\" y1=\"0\" y2=\"30\"/><line stroke=\"black\" stroke-width=\"1\" x1=\"70\" x2=\"70\" y1=\"0\" y2=\"30\"/><line stroke=\"black\" stroke-width=\"1\" x1=\"120\" x2=\"120\" y1=\"0\" y2=\"30\"/><line stroke=\"black\" stroke-width=\"1\" x1=\"130\" x2=\"130\" y1=\"0\" y2=\"30\"/><text dy=\".35em\" x=\"12\" y=\"15.0\">Mozart</text><text dy=\".35em\" x=\"72\" y=\"15.0\">Singh</text></g>\n",
       "<g transform=\"translate(720, 150)\"><rect fill=\"#ccc\" height=\"30\" width=\"130\"/><line stroke=\"black\" stroke-width=\"1\" x1=\"0\" x2=\"0\" y1=\"0\" y2=\"30\"/><line stroke=\"black\" stroke-width=\"1\" x1=\"10\" x2=\"10\" y1=\"0\" y2=\"30\"/><line stroke=\"black\" stroke-width=\"1\" x1=\"60\" x2=\"60\" y1=\"0\" y2=\"30\"/><line stroke=\"black\" stroke-width=\"1\" x1=\"70\" x2=\"70\" y1=\"0\" y2=\"30\"/><line stroke=\"black\" stroke-width=\"1\" x1=\"120\" x2=\"120\" y1=\"0\" y2=\"30\"/><line stroke=\"black\" stroke-width=\"1\" x1=\"130\" x2=\"130\" y1=\"0\" y2=\"30\"/><text dy=\".35em\" x=\"12\" y=\"15.0\">Sriniv</text><text dy=\".35em\" x=\"72\" y=\"15.0\">Wu</text></g>\n",
       "</svg>"
      ],
      "text/plain": [
       "<IPython.core.display.SVG object>"
      ]
     },
     "execution_count": 3,
     "metadata": {},
     "output_type": "execute_result"
    }
   ],
   "source": [
    "x = DisplayBTree(db1.getIndex(\"instructor\", \"name\"))\n",
    "SVG(x.html())"
   ]
  },
  {
   "cell_type": "markdown",
   "metadata": {},
   "source": [
    "Inserting a tuple into the underlying relation will change the B+-Tree. You are encouraged to try this out. Note that: as discussed below, deletes don't fully work.\n",
    "\n",
    "Let's see what happens when we try to insert 'Gray'."
   ]
  },
  {
   "cell_type": "code",
   "execution_count": 4,
   "metadata": {},
   "outputs": [
    {
     "data": {
      "image/svg+xml": [
       "<svg class=\"chart\" height=\"520\" width=\"1820\">\n",
       "<marker id=\"triangle\" markerHeight=\"8\" markerUnits=\"strokeWidth\" markerWidth=\"5\" orient=\"auto\" refX=\"0\" refY=\"5\" viewBox=\"0 0 10 10\"> <path d=\"M 0 0 L 10 5 L 0 10 z\"/> </marker><g transform=\"translate(0, 0)\"><rect fill=\"#ccc\" height=\"30\" width=\"70\"/><line stroke=\"black\" stroke-width=\"1\" x1=\"0\" x2=\"0\" y1=\"0\" y2=\"30\"/><line stroke=\"black\" stroke-width=\"1\" x1=\"10\" x2=\"10\" y1=\"0\" y2=\"30\"/><line stroke=\"black\" stroke-width=\"1\" x1=\"60\" x2=\"60\" y1=\"0\" y2=\"30\"/><line stroke=\"black\" stroke-width=\"1\" x1=\"70\" x2=\"70\" y1=\"0\" y2=\"30\"/><text dy=\".35em\" x=\"12\" y=\"15.0\">Mozart</text></g>\n",
       "<line marker-end=\"url(#triangle)\" stroke=\"black\" stroke-width=\"2\" x1=\"5.0\" x2=\"63\" y1=\"27.0\" y2=\"72\"/><line marker-end=\"url(#triangle)\" stroke=\"black\" stroke-width=\"2\" x1=\"65.0\" x2=\"233\" y1=\"27.0\" y2=\"72\"/><g transform=\"translate(0, 75)\"><rect fill=\"#ccc\" height=\"30\" width=\"190\"/><line stroke=\"black\" stroke-width=\"1\" x1=\"0\" x2=\"0\" y1=\"0\" y2=\"30\"/><line stroke=\"black\" stroke-width=\"1\" x1=\"10\" x2=\"10\" y1=\"0\" y2=\"30\"/><line stroke=\"black\" stroke-width=\"1\" x1=\"60\" x2=\"60\" y1=\"0\" y2=\"30\"/><line stroke=\"black\" stroke-width=\"1\" x1=\"70\" x2=\"70\" y1=\"0\" y2=\"30\"/><line stroke=\"black\" stroke-width=\"1\" x1=\"120\" x2=\"120\" y1=\"0\" y2=\"30\"/><line stroke=\"black\" stroke-width=\"1\" x1=\"130\" x2=\"130\" y1=\"0\" y2=\"30\"/><line stroke=\"black\" stroke-width=\"1\" x1=\"180\" x2=\"180\" y1=\"0\" y2=\"30\"/><line stroke=\"black\" stroke-width=\"1\" x1=\"190\" x2=\"190\" y1=\"0\" y2=\"30\"/><text dy=\".35em\" x=\"12\" y=\"15.0\">Califi</text><text dy=\".35em\" x=\"72\" y=\"15.0\">Einste</text><text dy=\".35em\" x=\"132\" y=\"15.0\">Gold</text></g>\n",
       "<line marker-end=\"url(#triangle)\" stroke=\"black\" stroke-width=\"2\" x1=\"5.0\" x2=\"43\" y1=\"102.0\" y2=\"147\"/><line marker-end=\"url(#triangle)\" stroke=\"black\" stroke-width=\"2\" x1=\"65.0\" x2=\"193\" y1=\"102.0\" y2=\"147\"/><line marker-end=\"url(#triangle)\" stroke=\"black\" stroke-width=\"2\" x1=\"125.0\" x2=\"343\" y1=\"102.0\" y2=\"147\"/><line marker-end=\"url(#triangle)\" stroke=\"black\" stroke-width=\"2\" x1=\"185.0\" x2=\"513\" y1=\"102.0\" y2=\"147\"/><g transform=\"translate(210, 75)\"><rect fill=\"#ccc\" height=\"30\" width=\"70\"/><line stroke=\"black\" stroke-width=\"1\" x1=\"0\" x2=\"0\" y1=\"0\" y2=\"30\"/><line stroke=\"black\" stroke-width=\"1\" x1=\"10\" x2=\"10\" y1=\"0\" y2=\"30\"/><line stroke=\"black\" stroke-width=\"1\" x1=\"60\" x2=\"60\" y1=\"0\" y2=\"30\"/><line stroke=\"black\" stroke-width=\"1\" x1=\"70\" x2=\"70\" y1=\"0\" y2=\"30\"/><text dy=\".35em\" x=\"12\" y=\"15.0\">Sriniv</text></g>\n",
       "<line marker-end=\"url(#triangle)\" stroke=\"black\" stroke-width=\"2\" x1=\"215.0\" x2=\"703\" y1=\"102.0\" y2=\"147\"/><line marker-end=\"url(#triangle)\" stroke=\"black\" stroke-width=\"2\" x1=\"275.0\" x2=\"853\" y1=\"102.0\" y2=\"147\"/><g transform=\"translate(0, 150)\"><rect fill=\"#ccc\" height=\"30\" width=\"130\"/><line stroke=\"black\" stroke-width=\"1\" x1=\"0\" x2=\"0\" y1=\"0\" y2=\"30\"/><line stroke=\"black\" stroke-width=\"1\" x1=\"10\" x2=\"10\" y1=\"0\" y2=\"30\"/><line stroke=\"black\" stroke-width=\"1\" x1=\"60\" x2=\"60\" y1=\"0\" y2=\"30\"/><line stroke=\"black\" stroke-width=\"1\" x1=\"70\" x2=\"70\" y1=\"0\" y2=\"30\"/><line stroke=\"black\" stroke-width=\"1\" x1=\"120\" x2=\"120\" y1=\"0\" y2=\"30\"/><line stroke=\"black\" stroke-width=\"1\" x1=\"130\" x2=\"130\" y1=\"0\" y2=\"30\"/><text dy=\".35em\" x=\"12\" y=\"15.0\">Adams</text><text dy=\".35em\" x=\"72\" y=\"15.0\">Brandt</text></g>\n",
       "<g transform=\"translate(150, 150)\"><rect fill=\"#ccc\" height=\"30\" width=\"130\"/><line stroke=\"black\" stroke-width=\"1\" x1=\"0\" x2=\"0\" y1=\"0\" y2=\"30\"/><line stroke=\"black\" stroke-width=\"1\" x1=\"10\" x2=\"10\" y1=\"0\" y2=\"30\"/><line stroke=\"black\" stroke-width=\"1\" x1=\"60\" x2=\"60\" y1=\"0\" y2=\"30\"/><line stroke=\"black\" stroke-width=\"1\" x1=\"70\" x2=\"70\" y1=\"0\" y2=\"30\"/><line stroke=\"black\" stroke-width=\"1\" x1=\"120\" x2=\"120\" y1=\"0\" y2=\"30\"/><line stroke=\"black\" stroke-width=\"1\" x1=\"130\" x2=\"130\" y1=\"0\" y2=\"30\"/><text dy=\".35em\" x=\"12\" y=\"15.0\">Califi</text><text dy=\".35em\" x=\"72\" y=\"15.0\">Crick</text></g>\n",
       "<g transform=\"translate(300, 150)\"><rect fill=\"#ccc\" height=\"30\" width=\"130\"/><line stroke=\"black\" stroke-width=\"1\" x1=\"0\" x2=\"0\" y1=\"0\" y2=\"30\"/><line stroke=\"black\" stroke-width=\"1\" x1=\"10\" x2=\"10\" y1=\"0\" y2=\"30\"/><line stroke=\"black\" stroke-width=\"1\" x1=\"60\" x2=\"60\" y1=\"0\" y2=\"30\"/><line stroke=\"black\" stroke-width=\"1\" x1=\"70\" x2=\"70\" y1=\"0\" y2=\"30\"/><line stroke=\"black\" stroke-width=\"1\" x1=\"120\" x2=\"120\" y1=\"0\" y2=\"30\"/><line stroke=\"black\" stroke-width=\"1\" x1=\"130\" x2=\"130\" y1=\"0\" y2=\"30\"/><text dy=\".35em\" x=\"12\" y=\"15.0\">Einste</text><text dy=\".35em\" x=\"72\" y=\"15.0\">El Sai</text></g>\n",
       "<g transform=\"translate(450, 150)\"><rect fill=\"#ccc\" height=\"30\" width=\"190\"/><line stroke=\"black\" stroke-width=\"1\" x1=\"0\" x2=\"0\" y1=\"0\" y2=\"30\"/><line stroke=\"black\" stroke-width=\"1\" x1=\"10\" x2=\"10\" y1=\"0\" y2=\"30\"/><line stroke=\"black\" stroke-width=\"1\" x1=\"60\" x2=\"60\" y1=\"0\" y2=\"30\"/><line stroke=\"black\" stroke-width=\"1\" x1=\"70\" x2=\"70\" y1=\"0\" y2=\"30\"/><line stroke=\"black\" stroke-width=\"1\" x1=\"120\" x2=\"120\" y1=\"0\" y2=\"30\"/><line stroke=\"black\" stroke-width=\"1\" x1=\"130\" x2=\"130\" y1=\"0\" y2=\"30\"/><line stroke=\"black\" stroke-width=\"1\" x1=\"180\" x2=\"180\" y1=\"0\" y2=\"30\"/><line stroke=\"black\" stroke-width=\"1\" x1=\"190\" x2=\"190\" y1=\"0\" y2=\"30\"/><text dy=\".35em\" x=\"12\" y=\"15.0\">Gold</text><text dy=\".35em\" x=\"72\" y=\"15.0\">Katz</text><text dy=\".35em\" x=\"132\" y=\"15.0\">Kim</text></g>\n",
       "<g transform=\"translate(660, 150)\"><rect fill=\"#ccc\" height=\"30\" width=\"130\"/><line stroke=\"black\" stroke-width=\"1\" x1=\"0\" x2=\"0\" y1=\"0\" y2=\"30\"/><line stroke=\"black\" stroke-width=\"1\" x1=\"10\" x2=\"10\" y1=\"0\" y2=\"30\"/><line stroke=\"black\" stroke-width=\"1\" x1=\"60\" x2=\"60\" y1=\"0\" y2=\"30\"/><line stroke=\"black\" stroke-width=\"1\" x1=\"70\" x2=\"70\" y1=\"0\" y2=\"30\"/><line stroke=\"black\" stroke-width=\"1\" x1=\"120\" x2=\"120\" y1=\"0\" y2=\"30\"/><line stroke=\"black\" stroke-width=\"1\" x1=\"130\" x2=\"130\" y1=\"0\" y2=\"30\"/><text dy=\".35em\" x=\"12\" y=\"15.0\">Mozart</text><text dy=\".35em\" x=\"72\" y=\"15.0\">Singh</text></g>\n",
       "<g transform=\"translate(810, 150)\"><rect fill=\"#ccc\" height=\"30\" width=\"130\"/><line stroke=\"black\" stroke-width=\"1\" x1=\"0\" x2=\"0\" y1=\"0\" y2=\"30\"/><line stroke=\"black\" stroke-width=\"1\" x1=\"10\" x2=\"10\" y1=\"0\" y2=\"30\"/><line stroke=\"black\" stroke-width=\"1\" x1=\"60\" x2=\"60\" y1=\"0\" y2=\"30\"/><line stroke=\"black\" stroke-width=\"1\" x1=\"70\" x2=\"70\" y1=\"0\" y2=\"30\"/><line stroke=\"black\" stroke-width=\"1\" x1=\"120\" x2=\"120\" y1=\"0\" y2=\"30\"/><line stroke=\"black\" stroke-width=\"1\" x1=\"130\" x2=\"130\" y1=\"0\" y2=\"30\"/><text dy=\".35em\" x=\"12\" y=\"15.0\">Sriniv</text><text dy=\".35em\" x=\"72\" y=\"15.0\">Wu</text></g>\n",
       "</svg>"
      ],
      "text/plain": [
       "<IPython.core.display.SVG object>"
      ]
     },
     "execution_count": 4,
     "metadata": {},
     "output_type": "execute_result"
    }
   ],
   "source": [
    "rel = db1.getRelation(\"instructor\")\n",
    "rel.insertTuple(Tuple(rel.schema, ('12346', 'Jones', 'Physics', '95000')))\n",
    "SVG(DisplayBTree(db1.getIndex(\"instructor\", \"name\")).html())"
   ]
  },
  {
   "cell_type": "markdown",
   "metadata": {},
   "source": [
    "Now, if we try to insert say 'Davis', we would need to do a split at the second level."
   ]
  },
  {
   "cell_type": "code",
   "execution_count": 5,
   "metadata": {},
   "outputs": [
    {
     "data": {
      "image/svg+xml": [
       "<svg class=\"chart\" height=\"520\" width=\"1820\">\n",
       "<marker id=\"triangle\" markerHeight=\"8\" markerUnits=\"strokeWidth\" markerWidth=\"5\" orient=\"auto\" refX=\"0\" refY=\"5\" viewBox=\"0 0 10 10\"> <path d=\"M 0 0 L 10 5 L 0 10 z\"/> </marker><g transform=\"translate(0, 0)\"><rect fill=\"#ccc\" height=\"30\" width=\"130\"/><line stroke=\"black\" stroke-width=\"1\" x1=\"0\" x2=\"0\" y1=\"0\" y2=\"30\"/><line stroke=\"black\" stroke-width=\"1\" x1=\"10\" x2=\"10\" y1=\"0\" y2=\"30\"/><line stroke=\"black\" stroke-width=\"1\" x1=\"60\" x2=\"60\" y1=\"0\" y2=\"30\"/><line stroke=\"black\" stroke-width=\"1\" x1=\"70\" x2=\"70\" y1=\"0\" y2=\"30\"/><line stroke=\"black\" stroke-width=\"1\" x1=\"120\" x2=\"120\" y1=\"0\" y2=\"30\"/><line stroke=\"black\" stroke-width=\"1\" x1=\"130\" x2=\"130\" y1=\"0\" y2=\"30\"/><text dy=\".35em\" x=\"12\" y=\"15.0\">Gold</text><text dy=\".35em\" x=\"72\" y=\"15.0\">Mozart</text></g>\n",
       "<line marker-end=\"url(#triangle)\" stroke=\"black\" stroke-width=\"2\" x1=\"5.0\" x2=\"43\" y1=\"27.0\" y2=\"72\"/><line marker-end=\"url(#triangle)\" stroke=\"black\" stroke-width=\"2\" x1=\"65.0\" x2=\"173\" y1=\"27.0\" y2=\"72\"/><line marker-end=\"url(#triangle)\" stroke=\"black\" stroke-width=\"2\" x1=\"125.0\" x2=\"263\" y1=\"27.0\" y2=\"72\"/><g transform=\"translate(0, 75)\"><rect fill=\"#ccc\" height=\"30\" width=\"130\"/><line stroke=\"black\" stroke-width=\"1\" x1=\"0\" x2=\"0\" y1=\"0\" y2=\"30\"/><line stroke=\"black\" stroke-width=\"1\" x1=\"10\" x2=\"10\" y1=\"0\" y2=\"30\"/><line stroke=\"black\" stroke-width=\"1\" x1=\"60\" x2=\"60\" y1=\"0\" y2=\"30\"/><line stroke=\"black\" stroke-width=\"1\" x1=\"70\" x2=\"70\" y1=\"0\" y2=\"30\"/><line stroke=\"black\" stroke-width=\"1\" x1=\"120\" x2=\"120\" y1=\"0\" y2=\"30\"/><line stroke=\"black\" stroke-width=\"1\" x1=\"130\" x2=\"130\" y1=\"0\" y2=\"30\"/><text dy=\".35em\" x=\"12\" y=\"15.0\">Califi</text><text dy=\".35em\" x=\"72\" y=\"15.0\">Einste</text></g>\n",
       "<line marker-end=\"url(#triangle)\" stroke=\"black\" stroke-width=\"2\" x1=\"5.0\" x2=\"43\" y1=\"102.0\" y2=\"147\"/><line marker-end=\"url(#triangle)\" stroke=\"black\" stroke-width=\"2\" x1=\"65.0\" x2=\"193\" y1=\"102.0\" y2=\"147\"/><line marker-end=\"url(#triangle)\" stroke=\"black\" stroke-width=\"2\" x1=\"125.0\" x2=\"343\" y1=\"102.0\" y2=\"147\"/><g transform=\"translate(150, 75)\"><rect fill=\"#ccc\" height=\"30\" width=\"70\"/><line stroke=\"black\" stroke-width=\"1\" x1=\"0\" x2=\"0\" y1=\"0\" y2=\"30\"/><line stroke=\"black\" stroke-width=\"1\" x1=\"10\" x2=\"10\" y1=\"0\" y2=\"30\"/><line stroke=\"black\" stroke-width=\"1\" x1=\"60\" x2=\"60\" y1=\"0\" y2=\"30\"/><line stroke=\"black\" stroke-width=\"1\" x1=\"70\" x2=\"70\" y1=\"0\" y2=\"30\"/><text dy=\".35em\" x=\"12\" y=\"15.0\">Katz</text></g>\n",
       "<line marker-end=\"url(#triangle)\" stroke=\"black\" stroke-width=\"2\" x1=\"155.0\" x2=\"493\" y1=\"102.0\" y2=\"147\"/><line marker-end=\"url(#triangle)\" stroke=\"black\" stroke-width=\"2\" x1=\"215.0\" x2=\"643\" y1=\"102.0\" y2=\"147\"/><g transform=\"translate(240, 75)\"><rect fill=\"#ccc\" height=\"30\" width=\"70\"/><line stroke=\"black\" stroke-width=\"1\" x1=\"0\" x2=\"0\" y1=\"0\" y2=\"30\"/><line stroke=\"black\" stroke-width=\"1\" x1=\"10\" x2=\"10\" y1=\"0\" y2=\"30\"/><line stroke=\"black\" stroke-width=\"1\" x1=\"60\" x2=\"60\" y1=\"0\" y2=\"30\"/><line stroke=\"black\" stroke-width=\"1\" x1=\"70\" x2=\"70\" y1=\"0\" y2=\"30\"/><text dy=\".35em\" x=\"12\" y=\"15.0\">Sriniv</text></g>\n",
       "<line marker-end=\"url(#triangle)\" stroke=\"black\" stroke-width=\"2\" x1=\"245.0\" x2=\"793\" y1=\"102.0\" y2=\"147\"/><line marker-end=\"url(#triangle)\" stroke=\"black\" stroke-width=\"2\" x1=\"305.0\" x2=\"943\" y1=\"102.0\" y2=\"147\"/><g transform=\"translate(0, 150)\"><rect fill=\"#ccc\" height=\"30\" width=\"130\"/><line stroke=\"black\" stroke-width=\"1\" x1=\"0\" x2=\"0\" y1=\"0\" y2=\"30\"/><line stroke=\"black\" stroke-width=\"1\" x1=\"10\" x2=\"10\" y1=\"0\" y2=\"30\"/><line stroke=\"black\" stroke-width=\"1\" x1=\"60\" x2=\"60\" y1=\"0\" y2=\"30\"/><line stroke=\"black\" stroke-width=\"1\" x1=\"70\" x2=\"70\" y1=\"0\" y2=\"30\"/><line stroke=\"black\" stroke-width=\"1\" x1=\"120\" x2=\"120\" y1=\"0\" y2=\"30\"/><line stroke=\"black\" stroke-width=\"1\" x1=\"130\" x2=\"130\" y1=\"0\" y2=\"30\"/><text dy=\".35em\" x=\"12\" y=\"15.0\">Adams</text><text dy=\".35em\" x=\"72\" y=\"15.0\">Brandt</text></g>\n",
       "<g transform=\"translate(150, 150)\"><rect fill=\"#ccc\" height=\"30\" width=\"130\"/><line stroke=\"black\" stroke-width=\"1\" x1=\"0\" x2=\"0\" y1=\"0\" y2=\"30\"/><line stroke=\"black\" stroke-width=\"1\" x1=\"10\" x2=\"10\" y1=\"0\" y2=\"30\"/><line stroke=\"black\" stroke-width=\"1\" x1=\"60\" x2=\"60\" y1=\"0\" y2=\"30\"/><line stroke=\"black\" stroke-width=\"1\" x1=\"70\" x2=\"70\" y1=\"0\" y2=\"30\"/><line stroke=\"black\" stroke-width=\"1\" x1=\"120\" x2=\"120\" y1=\"0\" y2=\"30\"/><line stroke=\"black\" stroke-width=\"1\" x1=\"130\" x2=\"130\" y1=\"0\" y2=\"30\"/><text dy=\".35em\" x=\"12\" y=\"15.0\">Califi</text><text dy=\".35em\" x=\"72\" y=\"15.0\">Crick</text></g>\n",
       "<g transform=\"translate(300, 150)\"><rect fill=\"#ccc\" height=\"30\" width=\"130\"/><line stroke=\"black\" stroke-width=\"1\" x1=\"0\" x2=\"0\" y1=\"0\" y2=\"30\"/><line stroke=\"black\" stroke-width=\"1\" x1=\"10\" x2=\"10\" y1=\"0\" y2=\"30\"/><line stroke=\"black\" stroke-width=\"1\" x1=\"60\" x2=\"60\" y1=\"0\" y2=\"30\"/><line stroke=\"black\" stroke-width=\"1\" x1=\"70\" x2=\"70\" y1=\"0\" y2=\"30\"/><line stroke=\"black\" stroke-width=\"1\" x1=\"120\" x2=\"120\" y1=\"0\" y2=\"30\"/><line stroke=\"black\" stroke-width=\"1\" x1=\"130\" x2=\"130\" y1=\"0\" y2=\"30\"/><text dy=\".35em\" x=\"12\" y=\"15.0\">Einste</text><text dy=\".35em\" x=\"72\" y=\"15.0\">El Sai</text></g>\n",
       "<g transform=\"translate(450, 150)\"><rect fill=\"#ccc\" height=\"30\" width=\"130\"/><line stroke=\"black\" stroke-width=\"1\" x1=\"0\" x2=\"0\" y1=\"0\" y2=\"30\"/><line stroke=\"black\" stroke-width=\"1\" x1=\"10\" x2=\"10\" y1=\"0\" y2=\"30\"/><line stroke=\"black\" stroke-width=\"1\" x1=\"60\" x2=\"60\" y1=\"0\" y2=\"30\"/><line stroke=\"black\" stroke-width=\"1\" x1=\"70\" x2=\"70\" y1=\"0\" y2=\"30\"/><line stroke=\"black\" stroke-width=\"1\" x1=\"120\" x2=\"120\" y1=\"0\" y2=\"30\"/><line stroke=\"black\" stroke-width=\"1\" x1=\"130\" x2=\"130\" y1=\"0\" y2=\"30\"/><text dy=\".35em\" x=\"12\" y=\"15.0\">Gold</text><text dy=\".35em\" x=\"72\" y=\"15.0\">Jones</text></g>\n",
       "<g transform=\"translate(600, 150)\"><rect fill=\"#ccc\" height=\"30\" width=\"130\"/><line stroke=\"black\" stroke-width=\"1\" x1=\"0\" x2=\"0\" y1=\"0\" y2=\"30\"/><line stroke=\"black\" stroke-width=\"1\" x1=\"10\" x2=\"10\" y1=\"0\" y2=\"30\"/><line stroke=\"black\" stroke-width=\"1\" x1=\"60\" x2=\"60\" y1=\"0\" y2=\"30\"/><line stroke=\"black\" stroke-width=\"1\" x1=\"70\" x2=\"70\" y1=\"0\" y2=\"30\"/><line stroke=\"black\" stroke-width=\"1\" x1=\"120\" x2=\"120\" y1=\"0\" y2=\"30\"/><line stroke=\"black\" stroke-width=\"1\" x1=\"130\" x2=\"130\" y1=\"0\" y2=\"30\"/><text dy=\".35em\" x=\"12\" y=\"15.0\">Katz</text><text dy=\".35em\" x=\"72\" y=\"15.0\">Kim</text></g>\n",
       "<g transform=\"translate(750, 150)\"><rect fill=\"#ccc\" height=\"30\" width=\"130\"/><line stroke=\"black\" stroke-width=\"1\" x1=\"0\" x2=\"0\" y1=\"0\" y2=\"30\"/><line stroke=\"black\" stroke-width=\"1\" x1=\"10\" x2=\"10\" y1=\"0\" y2=\"30\"/><line stroke=\"black\" stroke-width=\"1\" x1=\"60\" x2=\"60\" y1=\"0\" y2=\"30\"/><line stroke=\"black\" stroke-width=\"1\" x1=\"70\" x2=\"70\" y1=\"0\" y2=\"30\"/><line stroke=\"black\" stroke-width=\"1\" x1=\"120\" x2=\"120\" y1=\"0\" y2=\"30\"/><line stroke=\"black\" stroke-width=\"1\" x1=\"130\" x2=\"130\" y1=\"0\" y2=\"30\"/><text dy=\".35em\" x=\"12\" y=\"15.0\">Mozart</text><text dy=\".35em\" x=\"72\" y=\"15.0\">Singh</text></g>\n",
       "<g transform=\"translate(900, 150)\"><rect fill=\"#ccc\" height=\"30\" width=\"130\"/><line stroke=\"black\" stroke-width=\"1\" x1=\"0\" x2=\"0\" y1=\"0\" y2=\"30\"/><line stroke=\"black\" stroke-width=\"1\" x1=\"10\" x2=\"10\" y1=\"0\" y2=\"30\"/><line stroke=\"black\" stroke-width=\"1\" x1=\"60\" x2=\"60\" y1=\"0\" y2=\"30\"/><line stroke=\"black\" stroke-width=\"1\" x1=\"70\" x2=\"70\" y1=\"0\" y2=\"30\"/><line stroke=\"black\" stroke-width=\"1\" x1=\"120\" x2=\"120\" y1=\"0\" y2=\"30\"/><line stroke=\"black\" stroke-width=\"1\" x1=\"130\" x2=\"130\" y1=\"0\" y2=\"30\"/><text dy=\".35em\" x=\"12\" y=\"15.0\">Sriniv</text><text dy=\".35em\" x=\"72\" y=\"15.0\">Wu</text></g>\n",
       "</svg>"
      ],
      "text/plain": [
       "<IPython.core.display.SVG object>"
      ]
     },
     "execution_count": 5,
     "metadata": {},
     "output_type": "execute_result"
    }
   ],
   "source": [
    "rel = db1.getRelation(\"instructor\")\n",
    "rel.insertTuple(Tuple(rel.schema, ('12346', 'Jones', 'Physics', '95000')))\n",
    "SVG(DisplayBTree(db1.getIndex(\"instructor\", \"name\")).html())"
   ]
  },
  {
   "cell_type": "markdown",
   "metadata": {},
   "source": [
    "### Searching\n",
    "The following snippet of code does a search using the tree, and prints out the resulting tuples. It also prints out the blocks that were retrieved during the search."
   ]
  },
  {
   "cell_type": "code",
   "execution_count": null,
   "metadata": {},
   "outputs": [],
   "source": [
    "Globals.printBlockAccesses = True\n",
    "results = db1.getIndex(\"instructor\", \"name\").searchByRange(\"M\", \"S\")\n",
    "if results is not None and len(results) != 0:\n",
    "    print \"Results: \" + \" \".join([str(ptr.getTuple()) for ptr in results])\n",
    "else:\n",
    "    print \"No results found\"\n",
    "Globals.printBlockAccesses = False"
   ]
  },
  {
   "cell_type": "markdown",
   "metadata": {},
   "source": [
    "### Deleting \n",
    "The following code finds a tuple and then deletes it from the relation (and effectively the two B+-Trees on the relation). We print out the final trees."
   ]
  },
  {
   "cell_type": "code",
   "execution_count": null,
   "metadata": {},
   "outputs": [],
   "source": [
    "deleteKey = \"Srinivasan\"\n",
    "print \"Deleting the entry for key \" + deleteKey\n",
    "index = db1.getIndex(\"instructor\", \"name\")\n",
    "results = index.searchByKey(deleteKey)\n",
    "db1.getRelation(\"instructor\").deleteTuple(results[0])\n",
    "# The BTrees should have been adjusted automatically\n",
    "#index.printTree()\n",
    "#db1.getIndex(\"instructor\", \"dept_name\").printTree()"
   ]
  },
  {
   "cell_type": "code",
   "execution_count": null,
   "metadata": {},
   "outputs": [],
   "source": [
    "DisplayBTree(db1.getIndex(\"instructor\", \"name\"))"
   ]
  },
  {
   "cell_type": "code",
   "execution_count": null,
   "metadata": {},
   "outputs": [],
   "source": [
    "deleteKey = \"Einstein\"\n",
    "print \"Deleting the entry for key \" + deleteKey\n",
    "index = db1.getIndex(\"instructor\", \"name\")\n",
    "results = index.searchByKey(deleteKey)\n",
    "db1.getRelation(\"instructor\").deleteTuple(results[0])\n",
    "DisplayBTree(db1.getIndex(\"instructor\", \"name\"))"
   ]
  },
  {
   "cell_type": "markdown",
   "metadata": {},
   "source": [
    "**Task 1**: However, if I try to delete \"Brandt\", there is an error because the functionality to redistribute is missing (and you have to implement this functionality)."
   ]
  },
  {
   "cell_type": "code",
   "execution_count": null,
   "metadata": {},
   "outputs": [],
   "source": [
    "deleteKey = \"Brandt\"\n",
    "index = db1.getIndex(\"instructor\", \"name\")\n",
    "results = index.searchByKey(deleteKey)\n",
    "db1.getRelation(\"instructor\").deleteTuple(results[0])\n",
    "DisplayBTree(db1.getIndex(\"instructor\", \"name\"))"
   ]
  },
  {
   "cell_type": "markdown",
   "metadata": {},
   "source": [
    "**Important Note**: The tree and the database is in an inconsistent state now, and any more updates will break (until you implement the missing functionality and rerun). If you want to get back to a consistent state, go to \"Kernel\" menu option, and click \"Restart and Clear Output\". Then you can run the cells one-by-one again."
   ]
  },
  {
   "cell_type": "code",
   "execution_count": null,
   "metadata": {},
   "outputs": [],
   "source": [
    "DisplayBTree(db1.getIndex(\"instructor\", \"name\"))"
   ]
  },
  {
   "cell_type": "code",
   "execution_count": null,
   "metadata": {},
   "outputs": [],
   "source": []
  }
 ],
 "metadata": {
  "kernelspec": {
   "display_name": "Python 3",
   "language": "python",
   "name": "python3"
  },
  "language_info": {
   "codemirror_mode": {
    "name": "ipython",
    "version": 3
   },
   "file_extension": ".py",
   "mimetype": "text/x-python",
   "name": "python",
   "nbconvert_exporter": "python",
   "pygments_lexer": "ipython3",
   "version": "3.6.9"
  }
 },
 "nbformat": 4,
 "nbformat_minor": 1
}
