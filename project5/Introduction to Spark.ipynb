{
 "cells": [
  {
   "cell_type": "markdown",
   "metadata": {},
   "source": [
    "This Notebook shows introduces the basic concepts of RDDs and operations on them visually, by showing the contents of the RDDs as a table.\n",
    "\n",
    "**Note: If you are looking at this in GitHub, you may not be able to see the HTML tables. Make sure to use the nbviewer link: http://nbviewer.jupyter.org/github/umddb/cmsc424-fall2016/tree/master/**\n",
    "\n",
    "### Introduction\n",
    "\n",
    "Apache Spark is a relatively new cluster computing framework, developed originally at UC Berkeley. It significantly generalizes the 2-stage Map-Reduce paradigm (originally proposed by Google and popularized by open-source Hadoop system); Spark is instead based on the abstraction of **resilient distributed datasets (RDDs)**. An RDD is basically a distributed collection of items, that can be created in a variety of ways. Spark provides a set of operations to transform one or more RDDs into an output RDD, and analysis tasks are written as chains of these operations."
   ]
  },
  {
   "cell_type": "markdown",
   "metadata": {},
   "source": [
    "### Display RDD\n",
    "The following helper functions displays the current contents of an RDD (partition-by-partition). This is best used for small RDDs with manageable number of partitions."
   ]
  },
  {
   "cell_type": "code",
   "execution_count": 1,
   "metadata": {},
   "outputs": [],
   "source": [
    "class DisplayRDD:\n",
    "        def __init__(self, rdd):\n",
    "                self.rdd = rdd\n",
    "\n",
    "        def _repr_html_(self):                                  \n",
    "                x = self.rdd.mapPartitionsWithIndex(lambda i, x: [(i, [y for y in x])])\n",
    "                l = x.collect()\n",
    "                s = \"<table><tr>{}</tr><tr><td>\".format(\"\".join([\"<th>Partition {}\".format(str(j)) for (j, r) in l]))\n",
    "                s += '</td><td valign=\"bottom\">'.join([\"<ul><li>{}</ul>\".format(\"<li>\".join([str(rr) for rr in r])) for (j, r) in l])\n",
    "                s += \"</td></table>\"\n",
    "                return s"
   ]
  },
  {
   "cell_type": "markdown",
   "metadata": {
    "collapsed": true
   },
   "source": [
    "### Basics 1\n",
    "Lets start with some basic operations using a small RDD to visualize what's going on. We will create a RDD of Strings, using the `states.txt` file which contains a list of the state names.\n",
    "\n",
    "The notebook has already initialized a SparkContext, and we can refer to it as `sc`.\n",
    "\n",
    "We will use `sc.textFile` to create this RDD. This operations reads the file and treats every line as a separate object. We will use DisplayRDD() to visualize it. The second argument of `sc.textFile` is the number of partitions. We will set this as 10 to get started. If we don't do that, Spark will only create a single partition given the file is pretty small."
   ]
  },
  {
   "cell_type": "code",
   "execution_count": 2,
   "metadata": {},
   "outputs": [
    {
     "data": {
      "text/html": [
       "<table><tr><th>Partition 0<th>Partition 1<th>Partition 2<th>Partition 3<th>Partition 4<th>Partition 5<th>Partition 6<th>Partition 7<th>Partition 8<th>Partition 9</tr><tr><td><ul><li>Alabama<li>Hawaii<li>Massachusetts<li>New Mexico<li>South Dakota</ul></td><td valign=\"bottom\"><ul><li>Alaska<li>Idaho<li>Michigan<li>New York<li>Tennessee<li>Arizona</ul></td><td valign=\"bottom\"><ul><li>Illinois<li>Minnesota<li>North Carolina<li>Texas</ul></td><td valign=\"bottom\"><ul><li>Arkansas<li>Indiana<li>Mississippi<li>North Dakota<li>Utah</ul></td><td valign=\"bottom\"><ul><li>California<li>Iowa<li>Missouri<li>Ohio<li>Vermont<li>Colorado</ul></td><td valign=\"bottom\"><ul><li>Kansas<li>Montana<li>Oklahoma<li>Virginia<li>Connecticut<li>Kentucky</ul></td><td valign=\"bottom\"><ul><li>Nebraska<li>Oregon<li>Washington<li>Delaware<li>Louisiana</ul></td><td valign=\"bottom\"><ul><li>Nevada<li>Pennsylvania<li>West Virginia<li>Florida</ul></td><td valign=\"bottom\"><ul><li>Maine<li>New Hampshire<li>Rhode Island<li>Wisconsin<li>Georgia</ul></td><td valign=\"bottom\"><ul><li>Maryland<li>New Jersey<li>South Carolina<li>Wyoming</ul></td></table>"
      ],
      "text/plain": [
       "<__main__.DisplayRDD at 0x7f42255504e0>"
      ]
     },
     "execution_count": 2,
     "metadata": {},
     "output_type": "execute_result"
    }
   ],
   "source": [
    "states_rdd = sc.textFile('states.txt', 10)\n",
    "DisplayRDD(states_rdd)"
   ]
  },
  {
   "cell_type": "markdown",
   "metadata": {},
   "source": [
    "The above table shows the contents of each partition as a list -- so the first Partition has 5 elements in it ('Alabama', ...). We can `repartition` the RDD to get a fewer partitions so it will be easier to see."
   ]
  },
  {
   "cell_type": "code",
   "execution_count": 3,
   "metadata": {},
   "outputs": [
    {
     "data": {
      "text/html": [
       "<table><tr><th>Partition 0<th>Partition 1<th>Partition 2<th>Partition 3<th>Partition 4</tr><tr><td><ul><li>Nebraska<li>Oregon<li>Washington<li>Delaware<li>Louisiana<li>Maine<li>New Hampshire<li>Rhode Island<li>Wisconsin<li>Georgia</ul></td><td valign=\"bottom\"><ul><li>Alabama<li>Hawaii<li>Massachusetts<li>New Mexico<li>South Dakota<li>Maryland<li>New Jersey<li>South Carolina<li>Wyoming</ul></td><td valign=\"bottom\"><ul><li>Illinois<li>Minnesota<li>North Carolina<li>Texas<li>Arkansas<li>Indiana<li>Mississippi<li>North Dakota<li>Utah<li>Nevada<li>Pennsylvania<li>West Virginia<li>Florida</ul></td><td valign=\"bottom\"><ul><li>Alaska<li>Idaho<li>Michigan<li>New York<li>Tennessee<li>Arizona</ul></td><td valign=\"bottom\"><ul><li>California<li>Iowa<li>Missouri<li>Ohio<li>Vermont<li>Colorado<li>Kansas<li>Montana<li>Oklahoma<li>Virginia<li>Connecticut<li>Kentucky</ul></td></table>"
      ],
      "text/plain": [
       "<__main__.DisplayRDD at 0x7f42255509e8>"
      ]
     },
     "execution_count": 3,
     "metadata": {},
     "output_type": "execute_result"
    }
   ],
   "source": [
    "states_rdd = states_rdd.repartition(5)\n",
    "DisplayRDD(states_rdd)"
   ]
  },
  {
   "cell_type": "markdown",
   "metadata": {},
   "source": [
    "Let's do a transformation where we convert a string to a 2-tuple, where the second value is the length of the string. We will just use a `map` for this -- we have to provide a function as the input that transforms each element of the RDD. In this case, we are using the `lambda` keyword to define a function inline. See here: https://pythonconquerstheuniverse.wordpress.com/2011/08/29/lambda_tutorial/ for a tutorial on lambda functions.\n",
    "\n",
    "The below lambda function is simply taking in a string: s, and returning a 2-tuple: (s, len(s))"
   ]
  },
  {
   "cell_type": "code",
   "execution_count": 4,
   "metadata": {},
   "outputs": [
    {
     "data": {
      "text/html": [
       "<table><tr><th>Partition 0<th>Partition 1<th>Partition 2<th>Partition 3<th>Partition 4</tr><tr><td><ul><li>('Nebraska', 8)<li>('Oregon', 6)<li>('Washington', 10)<li>('Delaware', 8)<li>('Louisiana', 9)<li>('Maine', 5)<li>('New Hampshire', 13)<li>('Rhode Island', 12)<li>('Wisconsin', 9)<li>('Georgia', 7)</ul></td><td valign=\"bottom\"><ul><li>('Alabama', 7)<li>('Hawaii', 6)<li>('Massachusetts', 13)<li>('New Mexico', 10)<li>('South Dakota', 12)<li>('Maryland', 8)<li>('New Jersey', 10)<li>('South Carolina', 14)<li>('Wyoming', 7)</ul></td><td valign=\"bottom\"><ul><li>('Illinois', 8)<li>('Minnesota', 9)<li>('North Carolina', 14)<li>('Texas', 5)<li>('Arkansas', 8)<li>('Indiana', 7)<li>('Mississippi', 11)<li>('North Dakota', 12)<li>('Utah', 4)<li>('Nevada', 6)<li>('Pennsylvania', 12)<li>('West Virginia', 13)<li>('Florida', 7)</ul></td><td valign=\"bottom\"><ul><li>('Alaska', 6)<li>('Idaho', 5)<li>('Michigan', 8)<li>('New York', 8)<li>('Tennessee', 9)<li>('Arizona', 7)</ul></td><td valign=\"bottom\"><ul><li>('California', 10)<li>('Iowa', 4)<li>('Missouri', 8)<li>('Ohio', 4)<li>('Vermont', 7)<li>('Colorado', 8)<li>('Kansas', 6)<li>('Montana', 7)<li>('Oklahoma', 8)<li>('Virginia', 8)<li>('Connecticut', 11)<li>('Kentucky', 8)</ul></td></table>"
      ],
      "text/plain": [
       "<__main__.DisplayRDD at 0x7f4224157a58>"
      ]
     },
     "execution_count": 4,
     "metadata": {},
     "output_type": "execute_result"
    }
   ],
   "source": [
    "states1 = states_rdd.map(lambda s: (s, len(s)))\n",
    "DisplayRDD(states1)"
   ]
  },
  {
   "cell_type": "markdown",
   "metadata": {},
   "source": [
    "Lets collect all the names with the same length together using a group by operation. \n",
    "```\n",
    "groupByKey([numTasks]) \tWhen called on a dataset of (K, V) pairs, returns a dataset of (K, Iterable<V>) pairs. \n",
    "```\n",
    "This wouldn't work as is, because state1 is using the name as the key. Let's change that around."
   ]
  },
  {
   "cell_type": "code",
   "execution_count": 7,
   "metadata": {},
   "outputs": [
    {
     "data": {
      "text/html": [
       "<table><tr><th>Partition 0<th>Partition 1<th>Partition 2<th>Partition 3<th>Partition 4</tr><tr><td><ul><li>(8, 'Nebraska')<li>(6, 'Oregon')<li>(10, 'Washington')<li>(8, 'Delaware')<li>(9, 'Louisiana')<li>(5, 'Maine')<li>(13, 'New Hampshire')<li>(12, 'Rhode Island')<li>(9, 'Wisconsin')<li>(7, 'Georgia')</ul></td><td valign=\"bottom\"><ul><li>(7, 'Alabama')<li>(6, 'Hawaii')<li>(13, 'Massachusetts')<li>(10, 'New Mexico')<li>(12, 'South Dakota')<li>(8, 'Maryland')<li>(10, 'New Jersey')<li>(14, 'South Carolina')<li>(7, 'Wyoming')</ul></td><td valign=\"bottom\"><ul><li>(8, 'Illinois')<li>(9, 'Minnesota')<li>(14, 'North Carolina')<li>(5, 'Texas')<li>(8, 'Arkansas')<li>(7, 'Indiana')<li>(11, 'Mississippi')<li>(12, 'North Dakota')<li>(4, 'Utah')<li>(6, 'Nevada')<li>(12, 'Pennsylvania')<li>(13, 'West Virginia')<li>(7, 'Florida')</ul></td><td valign=\"bottom\"><ul><li>(6, 'Alaska')<li>(5, 'Idaho')<li>(8, 'Michigan')<li>(8, 'New York')<li>(9, 'Tennessee')<li>(7, 'Arizona')</ul></td><td valign=\"bottom\"><ul><li>(10, 'California')<li>(4, 'Iowa')<li>(8, 'Missouri')<li>(4, 'Ohio')<li>(7, 'Vermont')<li>(8, 'Colorado')<li>(6, 'Kansas')<li>(7, 'Montana')<li>(8, 'Oklahoma')<li>(8, 'Virginia')<li>(11, 'Connecticut')<li>(8, 'Kentucky')</ul></td></table>"
      ],
      "text/plain": [
       "<__main__.DisplayRDD at 0x7f4224157f28>"
      ]
     },
     "execution_count": 7,
     "metadata": {},
     "output_type": "execute_result"
    }
   ],
   "source": [
    "states2 = states1.map(lambda t: (t[1], t[0]))\n",
    "DisplayRDD(states2)"
   ]
  },
  {
   "cell_type": "markdown",
   "metadata": {},
   "source": [
    "Note above that Spark did not do a shuffle to ensure that the same `keys` end up on the same partition. In fact, the `map` operation does not do a shuffle. \n",
    "\n",
    "Now we can do a groupByKey. "
   ]
  },
  {
   "cell_type": "code",
   "execution_count": 8,
   "metadata": {},
   "outputs": [
    {
     "data": {
      "text/html": [
       "<table><tr><th>Partition 0<th>Partition 1<th>Partition 2<th>Partition 3<th>Partition 4</tr><tr><td><ul><li>(10, <pyspark.resultiterable.ResultIterable object at 0x7f42241618d0>)<li>(5, <pyspark.resultiterable.ResultIterable object at 0x7f42241617f0>)</ul></td><td valign=\"bottom\"><ul><li>(6, <pyspark.resultiterable.ResultIterable object at 0x7f4224161828>)<li>(11, <pyspark.resultiterable.ResultIterable object at 0x7f42241615c0>)</ul></td><td valign=\"bottom\"><ul><li>(12, <pyspark.resultiterable.ResultIterable object at 0x7f42241615f8>)<li>(7, <pyspark.resultiterable.ResultIterable object at 0x7f4224161518>)</ul></td><td valign=\"bottom\"><ul><li>(8, <pyspark.resultiterable.ResultIterable object at 0x7f4224161550>)<li>(13, <pyspark.resultiterable.ResultIterable object at 0x7f42241612e8>)</ul></td><td valign=\"bottom\"><ul><li>(9, <pyspark.resultiterable.ResultIterable object at 0x7f4224161320>)<li>(14, <pyspark.resultiterable.ResultIterable object at 0x7f4224161240>)<li>(4, <pyspark.resultiterable.ResultIterable object at 0x7f4224161208>)</ul></td></table>"
      ],
      "text/plain": [
       "<__main__.DisplayRDD at 0x7f4224162208>"
      ]
     },
     "execution_count": 8,
     "metadata": {},
     "output_type": "execute_result"
    }
   ],
   "source": [
    "states3 = states2.groupByKey()\n",
    "DisplayRDD(states3)"
   ]
  },
  {
   "cell_type": "markdown",
   "metadata": {},
   "source": [
    "That looks weird... it seems to have done a group by, but we are missing the groups themselves. This is because the type of the value is a `pyspark.resultiterable.ResultIterable` which our DisplayRDD code does not translate into strings. We can fix that by converting the `values` to lists, and then doing DisplayRDD."
   ]
  },
  {
   "cell_type": "code",
   "execution_count": 9,
   "metadata": {},
   "outputs": [
    {
     "data": {
      "text/html": [
       "<table><tr><th>Partition 0<th>Partition 1<th>Partition 2<th>Partition 3<th>Partition 4</tr><tr><td><ul><li>(10, ['Washington', 'New Mexico', 'New Jersey', 'California'])<li>(5, ['Maine', 'Texas', 'Idaho'])</ul></td><td valign=\"bottom\"><ul><li>(6, ['Oregon', 'Hawaii', 'Nevada', 'Alaska', 'Kansas'])<li>(11, ['Mississippi', 'Connecticut'])</ul></td><td valign=\"bottom\"><ul><li>(12, ['Rhode Island', 'South Dakota', 'North Dakota', 'Pennsylvania'])<li>(7, ['Georgia', 'Alabama', 'Wyoming', 'Indiana', 'Florida', 'Arizona', 'Vermont', 'Montana'])</ul></td><td valign=\"bottom\"><ul><li>(8, ['Nebraska', 'Delaware', 'Maryland', 'Illinois', 'Arkansas', 'Michigan', 'New York', 'Missouri', 'Colorado', 'Oklahoma', 'Virginia', 'Kentucky'])<li>(13, ['New Hampshire', 'Massachusetts', 'West Virginia'])</ul></td><td valign=\"bottom\"><ul><li>(9, ['Louisiana', 'Wisconsin', 'Minnesota', 'Tennessee'])<li>(14, ['South Carolina', 'North Carolina'])<li>(4, ['Utah', 'Iowa', 'Ohio'])</ul></td></table>"
      ],
      "text/plain": [
       "<__main__.DisplayRDD at 0x7f42254d9dd8>"
      ]
     },
     "execution_count": 9,
     "metadata": {},
     "output_type": "execute_result"
    }
   ],
   "source": [
    "DisplayRDD(states3.mapValues(list))"
   ]
  },
  {
   "cell_type": "markdown",
   "metadata": {},
   "source": [
    "There it goes. Now we can see that the operation properly grouped together the state names by their lengths. This operation required a `shuffle` since originally all names with length, say 10, were all over the place.\n",
    "\n",
    "`groupByKey` does not reduce the size of the RDD. If we were interested in `counting` the number of states with a given length (i.e., a `group by count` query), we can use `reduceByKey` instead. However that requires us to do a map first."
   ]
  },
  {
   "cell_type": "code",
   "execution_count": 10,
   "metadata": {
    "scrolled": true
   },
   "outputs": [
    {
     "data": {
      "text/html": [
       "<table><tr><th>Partition 0<th>Partition 1<th>Partition 2<th>Partition 3<th>Partition 4</tr><tr><td><ul><li>(8, 1)<li>(6, 1)<li>(10, 1)<li>(8, 1)<li>(9, 1)<li>(5, 1)<li>(13, 1)<li>(12, 1)<li>(9, 1)<li>(7, 1)</ul></td><td valign=\"bottom\"><ul><li>(7, 1)<li>(6, 1)<li>(13, 1)<li>(10, 1)<li>(12, 1)<li>(8, 1)<li>(10, 1)<li>(14, 1)<li>(7, 1)</ul></td><td valign=\"bottom\"><ul><li>(8, 1)<li>(9, 1)<li>(14, 1)<li>(5, 1)<li>(8, 1)<li>(7, 1)<li>(11, 1)<li>(12, 1)<li>(4, 1)<li>(6, 1)<li>(12, 1)<li>(13, 1)<li>(7, 1)</ul></td><td valign=\"bottom\"><ul><li>(6, 1)<li>(5, 1)<li>(8, 1)<li>(8, 1)<li>(9, 1)<li>(7, 1)</ul></td><td valign=\"bottom\"><ul><li>(10, 1)<li>(4, 1)<li>(8, 1)<li>(4, 1)<li>(7, 1)<li>(8, 1)<li>(6, 1)<li>(7, 1)<li>(8, 1)<li>(8, 1)<li>(11, 1)<li>(8, 1)</ul></td></table>"
      ],
      "text/plain": [
       "<__main__.DisplayRDD at 0x7f4224161048>"
      ]
     },
     "execution_count": 10,
     "metadata": {},
     "output_type": "execute_result"
    }
   ],
   "source": [
    "states4 = states2.mapValues(lambda x: 1)\n",
    "DisplayRDD(states4)"
   ]
  },
  {
   "cell_type": "markdown",
   "metadata": {},
   "source": [
    "`reduceByKey` takes in a single reduce function as the input which tells us what to do with any two values. In this case, we are simply going to use sum them up."
   ]
  },
  {
   "cell_type": "code",
   "execution_count": 11,
   "metadata": {},
   "outputs": [
    {
     "data": {
      "text/html": [
       "<table><tr><th>Partition 0<th>Partition 1<th>Partition 2<th>Partition 3<th>Partition 4</tr><tr><td><ul><li>(10, 4)<li>(5, 3)</ul></td><td valign=\"bottom\"><ul><li>(6, 5)<li>(11, 2)</ul></td><td valign=\"bottom\"><ul><li>(12, 4)<li>(7, 8)</ul></td><td valign=\"bottom\"><ul><li>(8, 12)<li>(13, 3)</ul></td><td valign=\"bottom\"><ul><li>(9, 4)<li>(14, 2)<li>(4, 3)</ul></td></table>"
      ],
      "text/plain": [
       "<__main__.DisplayRDD at 0x7f4224161d68>"
      ]
     },
     "execution_count": 11,
     "metadata": {},
     "output_type": "execute_result"
    }
   ],
   "source": [
    "DisplayRDD(states4.reduceByKey(lambda v1, v2: v1 + v2))"
   ]
  },
  {
   "cell_type": "markdown",
   "metadata": {},
   "source": [
    "These operations could be done faster through using `aggregateByKey`, but the syntax takes some getting used to. `aggregateByKey` takes a `start` value, a function that tells it what to do for a given element in the RDD, and another reduce function. "
   ]
  },
  {
   "cell_type": "code",
   "execution_count": 12,
   "metadata": {},
   "outputs": [
    {
     "data": {
      "text/html": [
       "<table><tr><th>Partition 0<th>Partition 1<th>Partition 2<th>Partition 3<th>Partition 4</tr><tr><td><ul><li>(10, 4)<li>(5, 3)</ul></td><td valign=\"bottom\"><ul><li>(6, 5)<li>(11, 2)</ul></td><td valign=\"bottom\"><ul><li>(12, 4)<li>(7, 8)</ul></td><td valign=\"bottom\"><ul><li>(8, 12)<li>(13, 3)</ul></td><td valign=\"bottom\"><ul><li>(9, 4)<li>(14, 2)<li>(4, 3)</ul></td></table>"
      ],
      "text/plain": [
       "<__main__.DisplayRDD at 0x7f4224157128>"
      ]
     },
     "execution_count": 12,
     "metadata": {},
     "output_type": "execute_result"
    }
   ],
   "source": [
    "DisplayRDD(states2.aggregateByKey(0, lambda k, v: k+1, lambda v1, v2: v1+v2))"
   ]
  },
  {
   "cell_type": "markdown",
   "metadata": {},
   "source": [
    "### Basics 2: FlatMap\n",
    "\n",
    "Unlike a `map`, the function used for `flatMap` returns a list -- this is used to allow for the possibility that we will generate different numbers of outputs for different elements. Here is an example where we split each string in `states_rdd` into multiple substrings.\n",
    "\n",
    "The lambda function below splits a string into chunks of size 5: so 'South Dakota' gets split into 'South', ' Dako', 'ta', and so on. The lambda function itself returns a list. If you try this with 'map' the result would not be the same."
   ]
  },
  {
   "cell_type": "code",
   "execution_count": 13,
   "metadata": {},
   "outputs": [
    {
     "data": {
      "text/html": [
       "<table><tr><th>Partition 0<th>Partition 1<th>Partition 2<th>Partition 3<th>Partition 4</tr><tr><td><ul><li>Nebra<li>ska<li>Orego<li>n<li>Washi<li>ngton<li>Delaw<li>are<li>Louis<li>iana<li>Maine<li>New H<li>ampsh<li>ire<li>Rhode<li> Isla<li>nd<li>Wisco<li>nsin<li>Georg<li>ia</ul></td><td valign=\"bottom\"><ul><li>Alaba<li>ma<li>Hawai<li>i<li>Massa<li>chuse<li>tts<li>New M<li>exico<li>South<li> Dako<li>ta<li>Maryl<li>and<li>New J<li>ersey<li>South<li> Caro<li>lina<li>Wyomi<li>ng</ul></td><td valign=\"bottom\"><ul><li>Illin<li>ois<li>Minne<li>sota<li>North<li> Caro<li>lina<li>Texas<li>Arkan<li>sas<li>India<li>na<li>Missi<li>ssipp<li>i<li>North<li> Dako<li>ta<li>Utah<li>Nevad<li>a<li>Penns<li>ylvan<li>ia<li>West <li>Virgi<li>nia<li>Flori<li>da</ul></td><td valign=\"bottom\"><ul><li>Alask<li>a<li>Idaho<li>Michi<li>gan<li>New Y<li>ork<li>Tenne<li>ssee<li>Arizo<li>na</ul></td><td valign=\"bottom\"><ul><li>Calif<li>ornia<li>Iowa<li>Misso<li>uri<li>Ohio<li>Vermo<li>nt<li>Color<li>ado<li>Kansa<li>s<li>Monta<li>na<li>Oklah<li>oma<li>Virgi<li>nia<li>Conne<li>cticu<li>t<li>Kentu<li>cky</ul></td></table>"
      ],
      "text/plain": [
       "<__main__.DisplayRDD at 0x7f4224118080>"
      ]
     },
     "execution_count": 13,
     "metadata": {},
     "output_type": "execute_result"
    }
   ],
   "source": [
    "DisplayRDD(states_rdd.flatMap(lambda x: [str(x[i:i+5]) for i in range(0, len(x), 5)]))"
   ]
  },
  {
   "cell_type": "markdown",
   "metadata": {},
   "source": [
    "### Basics 3: Joins\n",
    "\n",
    "Finally, lets look at an example of joins. We will still use small RDDs, but we now need two of them. We will just use `sc.parallelize` to create those RDDs. That functions takes in a list and creates an RDD of that by creating partitions and splitting them across machines. It takes the number of partitions as the second argument (optional).\n",
    "\n",
    "Note again that Spark made no attempt to co-locate the objects (i.e., the tuples) with the same key."
   ]
  },
  {
   "cell_type": "code",
   "execution_count": 14,
   "metadata": {},
   "outputs": [
    {
     "data": {
      "text/html": [
       "<table><tr><th>Partition 0<th>Partition 1<th>Partition 2</tr><tr><td><ul><li>('alpha', 1)</ul></td><td valign=\"bottom\"><ul><li>('beta', 2)<li>('gamma', 3)</ul></td><td valign=\"bottom\"><ul><li>('alpha', 5)<li>('beta', 6)</ul></td></table>"
      ],
      "text/plain": [
       "<__main__.DisplayRDD at 0x7f42241205c0>"
      ]
     },
     "execution_count": 14,
     "metadata": {},
     "output_type": "execute_result"
    }
   ],
   "source": [
    "rdd1 = sc.parallelize([('alpha', 1), ('beta', 2), ('gamma', 3), ('alpha', 5), ('beta', 6)], 3)\n",
    "DisplayRDD(rdd1)"
   ]
  },
  {
   "cell_type": "code",
   "execution_count": 15,
   "metadata": {},
   "outputs": [
    {
     "data": {
      "text/html": [
       "<table><tr><th>Partition 0<th>Partition 1<th>Partition 2</tr><tr><td><ul><li>('alpha', 'South Dakota')</ul></td><td valign=\"bottom\"><ul><li>('beta', 'North Dakota')</ul></td><td valign=\"bottom\"><ul><li>('zeta', 'Maryland')<li>('beta', 'Washington')</ul></td></table>"
      ],
      "text/plain": [
       "<__main__.DisplayRDD at 0x7f4224120518>"
      ]
     },
     "execution_count": 15,
     "metadata": {},
     "output_type": "execute_result"
    }
   ],
   "source": [
    "rdd2 = sc.parallelize([('alpha', 'South Dakota'), ('beta', 'North Dakota'), ('zeta', 'Maryland'), ('beta', 'Washington')], 3)\n",
    "DisplayRDD(rdd2)"
   ]
  },
  {
   "cell_type": "markdown",
   "metadata": {},
   "source": [
    "Here is the definition of join from the programming guide.\n",
    "```\n",
    "When called on datasets of type (K, V) and (K, W), returns a dataset of (K, (V, W)) pairs with all pairs of elements for each key. Outer joins are supported through leftOuterJoin, rightOuterJoin, and fullOuterJoin. \n",
    "```\n",
    "We want to join on the first attributes, so we can just call join directly, otherwise a map may have been required."
   ]
  },
  {
   "cell_type": "code",
   "execution_count": 16,
   "metadata": {},
   "outputs": [
    {
     "data": {
      "text/html": [
       "<table><tr><th>Partition 0<th>Partition 1<th>Partition 2<th>Partition 3<th>Partition 4<th>Partition 5</tr><tr><td><ul><li></ul></td><td valign=\"bottom\"><ul><li></ul></td><td valign=\"bottom\"><ul><li></ul></td><td valign=\"bottom\"><ul><li></ul></td><td valign=\"bottom\"><ul><li></ul></td><td valign=\"bottom\"><ul><li>('alpha', (1, 'South Dakota'))<li>('alpha', (5, 'South Dakota'))<li>('beta', (2, 'North Dakota'))<li>('beta', (2, 'Washington'))<li>('beta', (6, 'North Dakota'))<li>('beta', (6, 'Washington'))</ul></td></table>"
      ],
      "text/plain": [
       "<__main__.DisplayRDD at 0x7f42241209b0>"
      ]
     },
     "execution_count": 16,
     "metadata": {},
     "output_type": "execute_result"
    }
   ],
   "source": [
    "rdd3 = rdd1.join(rdd2)\n",
    "DisplayRDD(rdd3)"
   ]
  },
  {
   "cell_type": "markdown",
   "metadata": {},
   "source": [
    "There is a bunch of empty partitions. We could have controlled the number of partitions with an optional argument to join. But in any case, the output looks like what we were trying to do. Using `outerjoins` behaves as you would expect, with two extra tuples for fullOuterJoin."
   ]
  },
  {
   "cell_type": "code",
   "execution_count": 17,
   "metadata": {},
   "outputs": [
    {
     "data": {
      "text/html": [
       "<table><tr><th>Partition 0<th>Partition 1<th>Partition 2<th>Partition 3<th>Partition 4<th>Partition 5</tr><tr><td><ul><li></ul></td><td valign=\"bottom\"><ul><li>('zeta', (None, 'Maryland'))</ul></td><td valign=\"bottom\"><ul><li></ul></td><td valign=\"bottom\"><ul><li>('gamma', (3, None))</ul></td><td valign=\"bottom\"><ul><li></ul></td><td valign=\"bottom\"><ul><li>('alpha', (1, 'South Dakota'))<li>('alpha', (5, 'South Dakota'))<li>('beta', (2, 'North Dakota'))<li>('beta', (2, 'Washington'))<li>('beta', (6, 'North Dakota'))<li>('beta', (6, 'Washington'))</ul></td></table>"
      ],
      "text/plain": [
       "<__main__.DisplayRDD at 0x7f4224162748>"
      ]
     },
     "execution_count": 17,
     "metadata": {},
     "output_type": "execute_result"
    }
   ],
   "source": [
    "DisplayRDD(rdd1.fullOuterJoin(rdd2))"
   ]
  },
  {
   "cell_type": "markdown",
   "metadata": {},
   "source": [
    "`cogroup` is a related function, but basically creates two lists with each key. The `value` in that case is more complex, and our code above can't handle it. As we can see, there is a single object corresponding to each key, and the values are basically a pair of `iterables`."
   ]
  },
  {
   "cell_type": "code",
   "execution_count": 18,
   "metadata": {},
   "outputs": [
    {
     "data": {
      "text/html": [
       "<table><tr><th>Partition 0<th>Partition 1<th>Partition 2<th>Partition 3<th>Partition 4<th>Partition 5</tr><tr><td><ul><li></ul></td><td valign=\"bottom\"><ul><li>('zeta', (<pyspark.resultiterable.ResultIterable object at 0x7f4224120dd8>, <pyspark.resultiterable.ResultIterable object at 0x7f4224120470>))</ul></td><td valign=\"bottom\"><ul><li></ul></td><td valign=\"bottom\"><ul><li>('gamma', (<pyspark.resultiterable.ResultIterable object at 0x7f4224120cf8>, <pyspark.resultiterable.ResultIterable object at 0x7f4224120da0>))</ul></td><td valign=\"bottom\"><ul><li></ul></td><td valign=\"bottom\"><ul><li>('alpha', (<pyspark.resultiterable.ResultIterable object at 0x7f4224120390>, <pyspark.resultiterable.ResultIterable object at 0x7f4224120eb8>))<li>('beta', (<pyspark.resultiterable.ResultIterable object at 0x7f4224120e10>, <pyspark.resultiterable.ResultIterable object at 0x7f4224120198>))</ul></td></table>"
      ],
      "text/plain": [
       "<__main__.DisplayRDD at 0x7f4224162e10>"
      ]
     },
     "execution_count": 18,
     "metadata": {},
     "output_type": "execute_result"
    }
   ],
   "source": [
    "DisplayRDD(rdd1.cogroup(rdd2))"
   ]
  },
  {
   "cell_type": "markdown",
   "metadata": {},
   "source": [
    "### Basics 4\n",
    "\n",
    "Here we will run some of the commands from the README file. This uses an RDD created from the lines of README.md file. You can use the DisplayRDD function here, but the output is rather large."
   ]
  },
  {
   "cell_type": "code",
   "execution_count": 19,
   "metadata": {},
   "outputs": [],
   "source": [
    "textFile = sc.textFile(\"README.md\", 10)"
   ]
  },
  {
   "cell_type": "code",
   "execution_count": 20,
   "metadata": {},
   "outputs": [
    {
     "data": {
      "text/plain": [
       "149"
      ]
     },
     "execution_count": 20,
     "metadata": {},
     "output_type": "execute_result"
    }
   ],
   "source": [
    "textFile.count()"
   ]
  },
  {
   "cell_type": "code",
   "execution_count": 21,
   "metadata": {},
   "outputs": [
    {
     "data": {
      "text/plain": [
       "['# Project 5',\n",
       " '',\n",
       " \"Project 5 focuses on using Apache Spark for doing large-scale data analysis tasks. For this assignment, we will use relatively small datasets and  we won't run anything in distributed mode; however Spark can be easily used to run the same programs on much larger datasets.\",\n",
       " '',\n",
       " '## Getting Started with Spark']"
      ]
     },
     "execution_count": 21,
     "metadata": {},
     "output_type": "execute_result"
    }
   ],
   "source": [
    "textFile.take(5)"
   ]
  },
  {
   "cell_type": "markdown",
   "metadata": {},
   "source": [
    "As described in the README file, the following command does a word count, by first separating out the words using a `flatMap`, and then using a `reduceByKey`."
   ]
  },
  {
   "cell_type": "code",
   "execution_count": 22,
   "metadata": {},
   "outputs": [
    {
     "data": {
      "text/html": [
       "<table><tr><th>Partition 0<th>Partition 1<th>Partition 2<th>Partition 3<th>Partition 4<th>Partition 5<th>Partition 6<th>Partition 7<th>Partition 8<th>Partition 9</tr><tr><td><ul><li>('', 92)<li>('run', 4)<li>('anything', 1)<li>('is', 43)<li>('basically', 3)<li>('of', 47)<li>('at', 7)<li>('[Apache', 1)<li>('(originally', 1)<li>('instead', 1)<li>('an', 10)<li>('output', 5)<li>('HDFS', 1)<li>('have', 7)<li>('1.', 2)<li>('**Version', 1)<li>('ready', 1)<li>('languages:', 1)<li>('quick', 2)<li>('The', 16)<li>('PYSPARK_DRIVER_PYTHON_OPTS=\"notebook', 1)<li>('--no-browser', 1)<li>('Shell', 2)<li>('relevant', 1)<li>('python', 3)<li>('sc.textFile(\"README.md\")`:', 1)<li>('commands', 3)<li>('line', 4)<li>('RDD).', 1)<li>('(http://spark.apache.org/docs/latest/quick-start.html).', 1)<li>('following', 6)<li>('appears', 1)<li>('Use', 2)<li>('class,', 1)<li>('preferable,', 1)<li>('especially', 1)<li>('mode.', 1)<li>('look', 2)<li>('Programming', 1)<li>('Assignment', 1)<li>('Details', 1)<li>('initializes', 1)<li>('*', 9)<li>('consisting', 4)<li>('documents', 1)<li>('defined', 1)<li>('would', 5)<li>('input', 4)<li>('count', 1)<li>('dictionaries).', 1)<li>('starting', 1)<li>('category', 1)<li>('(just', 1)<li>('format', 2)<li>('Try', 1)<li>('nodes', 3)<li>('graph', 4)<li>('two', 5)<li>('analogous', 1)<li>('host,', 1)<li>('host', 2)<li>('\"simply', 1)<li>('algorithm', 3)<li>('no', 2)<li>('share', 1)<li>('currentMatching,', 1)<li>('chosen.', 1)<li>('making', 1)<li>('executed', 1)<li>('till', 1)<li>('currentMatching),', 1)<li>('testing/debugging', 1)<li>('process', 1)<li>('potential', 1)<li>('Sample', 1)<li>('results.txt', 1)<li>('shortly', 1)<li>('results', 1)</ul></td><td valign=\"bottom\"><ul><li>('analysis', 2)<li>('and', 32)<li>('much', 1)<li>('computing', 1)<li>('paradigm', 1)<li>('by', 6)<li>('Installing', 1)<li>('you', 11)<li>('download', 1)<li>('Download', 1)<li>('2.', 2)<li>('available', 1)<li>('`tar', 1)<li>('here', 3)<li>('follow', 2)<li>('standard', 2)<li>('Jupyter', 2)<li>('Notebook', 3)<li>('within', 1)<li>('directly.', 1)<li>('`$SPARKHOME/bin/pyspark`:', 1)<li>('local', 2)<li>('`sc.textFile`', 1)<li>('(which', 2)<li>('simply', 1)<li>('application.', 1)<li>('b)`', 1)<li>('functions.', 1)<li>('return', 4)<li>('sum(a,', 1)<li>('`flatmap`', 1)<li>('splits', 1)<li>('detailed', 1)<li>('Walk-Through).', 1)<li>('functions,', 2)<li>('separate', 1)<li>('write', 3)<li>('which', 2)<li>('program', 2)<li>('`assignment.py`,', 1)<li>('RDDs:', 1)<li>('user-product', 3)<li>('Dataset', 1)<li>('`functions.py`', 2)<li>('(several', 1)<li>('-', 8)<li>('**Task', 8)<li>('selecting', 1)<li>('>10).', 1)<li>('Write', 2)<li>('parsed', 2)<li>('document', 1)<li>('surnames', 1)<li>('Nobel', 4)<li>('surnames.', 1)<li>('JSONs', 2)<li>('how', 2)<li>('were', 2)<li>('logs', 1)<li>(\"'01/Jul/1995'\", 1)<li>('self-explanatory,', 1)<li>('need:', 1)<li>('(provided', 1)<li>('Task', 1)<li>('maximal', 2)<li>('A', 2)<li>('subset', 1)<li>('edges', 3)<li>('most', 1)<li>('matching).', 1)<li>('any', 1)<li>('note', 2)<li>('unmatched', 3)<li>('minimum', 1)</ul></td><td valign=\"bottom\"><ul><li>('#', 1)<li>('Spark', 14)<li>('this', 8)<li>('we', 12)<li>('use', 12)<li>('datasets', 2)<li>('in', 29)<li>('Started', 1)<li>('new', 3)<li>('Google', 1)<li>('based', 1)<li>('created', 1)<li>('these', 2)<li>('downloaded', 1)<li>('directory', 3)<li>(\"'/vagrant'\", 1)<li>('3.', 2)<li>('supports', 1)<li>('way', 2)<li>('`/vagrant`', 1)<li>('file.', 3)<li>('array', 1)<li>('rest', 1)<li>('Count', 2)<li>('command', 2)<li>('word:', 1)<li>('textfile.flatMap(split).map(generateone).reduceByKey(sum)', 1)<li>('(we', 1)<li>('representation', 1)<li>('compact', 1)<li>('out', 4)<li>('wordcount.py`', 1)<li>('Shakespeare', 1)<li>('examples', 1)<li>('exception', 1)<li>('1', 2)<li>('returns', 4)<li>('already', 2)<li>('transformations', 1)<li>('print', 1)<li>('*dates*', 1)<li>('dates', 1)<li>('[NASA', 1)<li>('`amazonBipartiteRDD`).', 1)<li>('aggregateByKey)', 1)<li>('degree.', 2)<li>('days', 1)<li>('fetched', 2)<li>('(8pt)**:', 2)<li>('sequences', 1)<li>(\"'motivation'\", 1)<li>('edge', 2)<li>('that,', 1)<li>('cannot', 1)<li>('both', 1)<li>('whose', 1)<li>('simple', 1)<li>('maintain', 1)<li>('state', 1)<li>('user,', 1)<li>('constraint.', 1)<li>('repeat', 1)<li>('multiple', 1)<li>('nodes,', 1)<li>('spark-submit', 1)<li>('`assignment.py`', 1)<li>('over).', 1)<li>('assignment.py', 1)<li>('Submit', 1)</ul></td><td valign=\"bottom\"><ul><li>('data', 2)<li>('relatively', 2)<li>('small', 3)<li>('be', 17)<li>('found', 1)<li>('Spark](https://spark.apache.org)', 1)<li>('cluster', 1)<li>('2-stage', 1)<li>('system);', 1)<li>('items,', 1)<li>('variety', 1)<li>('or', 4)<li>('RDDs', 3)<li>('VagrantFile', 1)<li>('website.', 1)<li>('package', 1)<li>('it', 16)<li>('machine),', 1)<li>('`spark-2.4.5-bin-hadoop2.7`.', 1)<li>('Scala', 2)<li>('(Spark', 1)<li>('--', 1)<li>('To', 2)<li>('\\t```', 2)<li>('--port=8881\"', 1)<li>('also', 8)<li>('about', 2)<li>('doing).', 1)<li>('initialized', 1)<li>('called', 2)<li>('`textFile`,', 1)<li>('reading', 1)<li>('output.', 1)<li>('without', 1)<li>('cluster.', 1)<li>('runs', 1)<li>('`$SPARKHOME/bin/spark-submit', 2)<li>('ratings', 1)<li>('(`amazon-ratings.txt`)', 1)<li>('Noble', 1)<li>('few', 1)<li>('RDDs.', 1)<li>('first', 6)<li>('followed', 1)<li>('2', 1)<li>('In', 3)<li>('parse', 1)<li>('(this', 1)<li>('Make', 2)<li>('so', 1)<li>('PairRDD', 4)<li>('not', 5)<li>('strings,', 1)<li>('entries', 1)<li>('Complete', 1)<li>('6', 1)<li>('On', 1)<li>(\"'cogroup'\", 1)<li>('`filter`', 1)<li>('consecutive', 1)<li>('previous', 1)<li>('sentence', 1)<li>('are\",', 1)<li>('its', 1)<li>('every', 1)<li>('add', 2)<li>('easy', 2)<li>('debug,', 1)<li>('currentMatching', 2)<li>('currently', 1)<li>('connected', 2)<li>('unmatched.', 1)<li>('`min`', 1)<li>('deterministic', 1)<li>('left', 1)<li>('easier', 1)<li>('develop', 1)<li>('(by', 1)</ul></td><td valign=\"bottom\"><ul><li>('easily', 1)<li>('excellent', 2)<li>('tutorials', 1)<li>('[Spark', 2)<li>('website](http://spark.apache.org).', 1)<li>('developed', 1)<li>('open-source', 1)<li>('provides', 1)<li>('set', 3)<li>('more', 4)<li>('RDD,', 2)<li>('are', 12)<li>('###', 8)<li>('before,', 1)<li>('Since', 1)<li>('large,', 1)<li>('ask', 1)<li>('2.7', 1)<li>('uncompress', 1)<li>('Python', 7)<li>('Scala),', 1)<li>('instructions', 1)<li>('languages.', 1)<li>('very', 1)<li>('verbose', 1)<li>('follow.', 1)<li>('(and', 1)<li>('--ip=0.0.0.0', 1)<li>('just', 2)<li>('=', 3)<li>('(word,', 2)<li>('`lambda`', 2)<li>('b', 1)<li>('Tutorial](http://hadoop.apache.org/docs/r1.2.1/mapred_tutorial.html#Source+Code)', 1)<li>('last', 2)<li>('playRDD', 1)<li>('value', 6)<li>('surnames).', 1)<li>('class', 1)<li>('(if', 1)<li>('4', 2)<li>('appear', 1)<li>(\"'02/Jul/1995').\", 1)<li>('details', 1)<li>('\"sequences', 1)<li>('different', 2)<li>(\"Don't\", 1)<li>('iteration', 1)<li>('*maximal*', 1)<li>('there', 1)<li>('remaining', 1)<li>('good', 1)<li>('problem,', 1)<li>('Initially', 1)<li>('added', 1)<li>('make', 1)<li>('step,', 1)<li>('match', 1)<li>('(again', 1)<li>('instructions.', 1)<li>('Submission', 1)</ul></td><td valign=\"bottom\"><ul><li>('5', 4)<li>('on', 11)<li>('large-scale', 1)<li>('tasks.', 1)<li>('For', 4)<li>('assignment,', 1)<li>(\"won't\", 1)<li>('distributed', 3)<li>('to', 35)<li>('Getting', 1)<li>('Berkeley.', 1)<li>('generalizes', 1)<li>('Map-Reduce', 2)<li>('Hadoop', 3)<li>('(RDDs)**.', 1)<li>('ways.', 1)<li>('one', 4)<li>('written', 2)<li>('chains', 1)<li>('ecosystem,', 1)<li>('directory.', 1)<li>('directly', 1)<li>('(so', 1)<li>('`export', 1)<li>('SPARKHOME=/vagrant/spark-2.4.5-bin-hadoop2.7/`', 1)<li>('equivalent', 1)<li>('code', 5)<li>('play', 3)<li>('You', 4)<li>('stuff', 1)<li>('variables', 1)<li>('textFile', 1)<li>('see', 2)<li>('prints', 1)<li>('(in', 2)<li>('shell)', 1)<li>('does', 3)<li>('word', 4)<li>('count,', 2)<li>('i.e.,', 3)<li>('number', 7)<li>('+', 2)<li>('```', 4)<li>('`map`', 2)<li>('discuss', 1)<li>('Running', 1)<li>('file,', 2)<li>('contains', 3)<li>('Guide](https://spark.apache.org/docs/latest/programming-guide.html)', 1)<li>('manipulation', 1)<li>('should', 8)<li>('interfaces.', 1)<li>('lines', 3)<li>('2-tuples', 1)<li>('Amazon', 2)<li>('all', 7)<li>('one.', 1)<li>('takes', 3)<li>('filter', 1)<li>('10.', 1)<li>('key', 5)<li>('2-tuple,', 2)<li>('second', 3)<li>('function', 3)<li>('Laureates.', 1)<li>('`json.loads`', 1)<li>('etc),', 1)<li>('their', 1)<li>('values', 1)<li>('`take(5)`,', 1)<li>('lists).', 1)<li>('if', 1)<li>('Logs](http://ita.ee.lbl.gov/html/contrib/NASA-HTTP.html)', 1)<li>('products', 3)<li>('has', 2)<li>('reduceByKey', 1)<li>('degree,', 1)<li>('above),', 1)<li>('7', 1)<li>('simply\",', 1)<li>('application', 1)<li>('bigrams', 1)<li>('`motivation`s', 1)<li>('appear.', 1)<li>('such', 3)<li>('parallelize.', 1)<li>('among', 1)<li>('product', 2)<li>('File', 1)</ul></td><td valign=\"bottom\"><ul><li>('using', 3)<li>('Apache', 1)<li>('mode;', 1)<li>('however', 1)<li>('larger', 1)<li>('It', 4)<li>('**resilient', 1)<li>('collection', 1)<li>('operations', 2)<li>('operations.', 1)<li>('resource', 1)<li>('`project5`', 2)<li>('distribution', 2)<li>('http://spark.apache.org/downloads.html.', 1)<li>('2.4.5,', 1)<li>('using:', 2)<li>('Set', 1)<li>('SPARKHOME', 1)<li>('primarily', 1)<li>('three', 1)<li>('Java,', 1)<li>('start', 3)<li>('other', 6)<li>('Java', 2)<li>('shell.', 2)<li>('do', 5)<li>('VM):', 1)<li>('PySpark', 2)<li>('shell', 1)<li>('but', 7)<li>('####', 1)<li>('counts', 3)<li>('`README.md`.', 1)<li>('\")).map(lambda', 1)<li>('generateone(word):', 1)<li>('b):', 1)<li>('try', 1)<li>('folllowing', 1)<li>('(`play.txt`)', 1)<li>('years', 1)<li>('(starting', 1)<li>('amount', 1)<li>('typically', 1)<li>('finds', 1)<li>('probably', 1)<li>('sure', 2)<li>('(https://docs.python.org/2/library/json.html)', 1)<li>('\\ttask2_result', 1)<li>('sequence', 1)<li>('`list`s,', 1)<li>('`logsRDD`.', 2)<li>('dates.', 1)<li>('minimize', 1)<li>('calculate', 2)<li>('[Bigrams](http://en.wikipedia.org/wiki/Bigram)', 1)<li>('example,', 1)<li>('etc.', 1)<li>('task', 1)<li>('bigram', 1)<li>('Prizes', 1)<li>('greedy', 2)<li>('endpoints', 1)<li>('particularly', 1)<li>('solving', 1)<li>('relationships', 2)<li>('(for', 1)<li>('group', 2)<li>('difficult)', 1)<li>('possible', 1)<li>('picked', 2)<li>('better).', 1)<li>('Now', 1)<li>('copying', 1)<li>('assignment.py`', 1)</ul></td><td valign=\"bottom\"><ul><li>('focuses', 1)<li>('for', 15)<li>('will', 14)<li>('the', 137)<li>('same', 5)<li>('summary', 1)<li>('that', 22)<li>('RDD', 14)<li>('transform', 1)<li>('file', 7)<li>('system', 1)<li>('manager.', 1)<li>('As', 1)<li>('provided', 3)<li>('We', 9)<li>('later**.', 1)<li>('virtual', 1)<li>('create', 5)<li>('directory:', 1)<li>('interface', 1)<li>('\\tPYSPARK_DRIVER_PYTHON=\"jupyter\"', 1)<li>('(it', 2)<li>('otherwise', 1)<li>('`>>>', 2)<li>('creates', 1)<li>('per', 1)<li>('some', 3)<li>('Application', 2)<li>('pyspark', 2)<li>('times', 1)<li>('each', 8)<li>('`counts.take(5)`', 1)<li>('def', 3)<li>('\")', 1)<li>('1)', 1)<li>('words,', 4)<li>('[Hadoop', 1)<li>('your', 1)<li>('*submit*', 1)<li>('encourage', 1)<li>('file:', 1)<li>('indicating', 1)<li>('JSON', 2)<li>('Laureates', 2)<li>('`task`).', 1)<li>('one-liners),', 1)<li>('(4pt)**:', 6)<li>('words.', 2)<li>('then', 4)<li>('being', 2)<li>('Simplest', 1)<li>('(`task2_flatmap`)', 1)<li>('`prize.json`)', 1)<li>('done).', 1)<li>('inside', 1)<li>('(these', 1)<li>('nobelRDD.map(json.loads).flatMap(task2_flatmap)', 1)<li>('(`physics`', 1)<li>('objects', 1)<li>('present', 1)<li>('they', 2)<li>('up', 1)<li>('user', 6)<li>('node', 2)<li>('rated),', 1)<li>('find', 2)<li>('element', 2)<li>('day,', 1)<li>('day.', 1)<li>('sequences\",', 1)<li>('of\",', 1)<li>('reason', 1)<li>('did', 1)<li>('assume', 1)<li>('bipartite', 1)<li>('vertex', 2)<li>('been', 2)<li>('empty', 1)<li>('it).', 1)<li>('to,', 1)<li>('users,', 1)<li>('violate', 1)<li>('another', 1)<li>('post', 1)<li>('iPython', 1)<li>('running', 1)</ul></td><td valign=\"bottom\"><ul><li>('Project', 2)<li>('used', 2)<li>('programs', 1)<li>('datasets.', 1)<li>('guide', 2)<li>('originally', 1)<li>('UC', 1)<li>('significantly', 1)<li>('proposed', 1)<li>('into', 2)<li>('tasks', 2)<li>('as', 8)<li>('`project5/`', 1)<li>('spark-2.4.5-bin-hadoop2.7.tgz`', 1)<li>('Spark.', 1)<li>('Python.', 1)<li>('below', 1)<li>('$SPARKHOME/bin/pyspark', 1)<li>('bunch', 1)<li>('shell,', 2)<li>('`textFile.first()`,', 1)<li>('`textFile.take(5)`', 1)<li>('items', 1)<li>('recommend', 1)<li>('line.split(\"', 2)<li>('1)).reduceByKey(lambda', 1)<li>('b:', 1)<li>('split(line):', 1)<li>('counting', 3)<li>('description:', 1)<li>('large', 1)<li>('program,', 1)<li>('do:', 1)<li>('More...', 1)<li>('(`NASA_logs_sample.txt`)', 1)<li>('(`prize.json`)', 1)<li>('fill', 1)<li>('8', 2)<li>('functions', 1)<li>('line,', 3)<li>('only', 1)<li>('where', 7)<li>('>', 1)<li>('must', 1)<li>('`filter`.', 1)<li>('flatmap', 1)<li>('know', 1)<li>('nested', 1)<li>('\"hosts\"', 1)<li>('(e.g.,', 1)<li>('end', 1)<li>('URLs', 2)<li>('Prize).', 1)<li>('bigram,', 1)<li>('`motivations`', 1)<li>('always', 1)<li>('`task8`', 1)<li>('matching', 4)<li>('current', 1)<li>('randomly', 2)<li>('**results.txt**', 1)</ul></td><td valign=\"bottom\"><ul><li>('doing', 3)<li>('can', 12)<li>('##', 2)<li>('with', 12)<li>('This', 6)<li>('a', 53)<li>('framework,', 1)<li>('popularized', 1)<li>('abstraction', 1)<li>('An', 5)<li>('including', 1)<li>('YARN', 1)<li>('from', 11)<li>('Pre-built', 1)<li>('Move', 1)<li>('zxvf', 1)<li>('4.', 2)<li>('variable:', 1)<li>('tutorial', 1)<li>('(http://spark.apache.org/docs/latest/quick-start.html)', 1)<li>('hard', 1)<li>('shows', 2)<li>('through', 1)<li>('provided),', 1)<li>('(from', 2)<li>('what', 2)<li>('containing', 2)<li>('entry', 3)<li>('information', 2)<li>('`textFile.count()`', 1)<li>('Here', 3)<li>('Word', 2)<li>('textFile.flatMap(lambda', 1)<li>('line:', 1)<li>('a,', 1)<li>('`reduce`', 1)<li>('(look', 1)<li>('better', 2)<li>('definitions.', 1)<li>('Instead', 1)<li>('spark', 1)<li>('`wordcount.py`,', 1)<li>('commands.', 1)<li>('log', 3)<li>('pertaining', 1)<li>('over', 1)<li>('Your', 2)<li>('words', 2)<li>('access', 1)<li>('3', 1)<li>('prizeRDD', 1)<li>('`category`', 1)<li>('list', 4)<li>('final', 1)<li>('operates', 1)<li>('those', 1)<li>('creating.', 1)<li>('degree', 2)<li>('(i.e.,', 5)<li>('(or', 1)<li>('given', 3)<li>('`logsRDD`,', 1)<li>('RDD:', 1)<li>('bigrams:', 1)<li>('\"Bigrams', 1)<li>('\"are', 1)<li>('many', 1)<li>('present.', 1)<li>('[Maximal', 1)<li>('Matching]', 1)<li>('implement', 1)<li>('finding', 2)<li>('graph.', 1)<li>('*matching*', 1)<li>('part', 1)<li>('unmatched).', 1)<li>('map-reduce;', 1)<li>('repeatadly', 1)<li>('change.', 1)<li>('who', 1)<li>('pick', 3)<li>(\"products'\", 1)<li>('perspective,', 1)<li>('iterate', 1)<li>('our', 1)</ul></td></table>"
      ],
      "text/plain": [
       "<__main__.DisplayRDD at 0x7f422412b588>"
      ]
     },
     "execution_count": 22,
     "metadata": {},
     "output_type": "execute_result"
    }
   ],
   "source": [
    "counts = textFile.flatMap(lambda line: line.split(\" \")).map(lambda word: (word, 1)).reduceByKey(lambda a, b: a + b)\n",
    "DisplayRDD(counts)"
   ]
  },
  {
   "cell_type": "code",
   "execution_count": null,
   "metadata": {},
   "outputs": [],
   "source": []
  }
 ],
 "metadata": {
  "kernelspec": {
   "display_name": "Python 3",
   "language": "python",
   "name": "python3"
  },
  "language_info": {
   "codemirror_mode": {
    "name": "ipython",
    "version": 3
   },
   "file_extension": ".py",
   "mimetype": "text/x-python",
   "name": "python",
   "nbconvert_exporter": "python",
   "pygments_lexer": "ipython3",
   "version": "3.6.9"
  }
 },
 "nbformat": 4,
 "nbformat_minor": 1
}
